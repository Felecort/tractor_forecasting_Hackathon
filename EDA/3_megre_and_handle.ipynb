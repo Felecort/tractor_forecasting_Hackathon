{
 "cells": [
  {
   "cell_type": "code",
   "execution_count": 1,
   "metadata": {},
   "outputs": [],
   "source": [
    "import numpy as np\n",
    "import pandas as pd\n",
    "import sklearn\n",
    "from pathlib import Path\n",
    "import matplotlib.pyplot as plt\n",
    "import re\n",
    "from utils import *\n",
    "\n",
    "pd.set_option('future.no_silent_downcasting', True)"
   ]
  },
  {
   "cell_type": "code",
   "execution_count": 2,
   "metadata": {},
   "outputs": [],
   "source": [
    "path_data = Path(\"../data\")"
   ]
  },
  {
   "cell_type": "code",
   "execution_count": 3,
   "metadata": {},
   "outputs": [],
   "source": [
    "all_data = pd.read_pickle(path_data / \"analysis_with_nan.pickle\")\n",
    "tractor_data = pd.read_pickle(path_data / \"operator_with_nan.pickle\")"
   ]
  },
  {
   "cell_type": "code",
   "execution_count": 4,
   "metadata": {},
   "outputs": [
    {
     "data": {
      "text/html": [
       "<div>\n",
       "<style scoped>\n",
       "    .dataframe tbody tr th:only-of-type {\n",
       "        vertical-align: middle;\n",
       "    }\n",
       "\n",
       "    .dataframe tbody tr th {\n",
       "        vertical-align: top;\n",
       "    }\n",
       "\n",
       "    .dataframe thead th {\n",
       "        text-align: right;\n",
       "    }\n",
       "</style>\n",
       "<table border=\"1\" class=\"dataframe\">\n",
       "  <thead>\n",
       "    <tr style=\"text-align: right;\">\n",
       "      <th></th>\n",
       "      <th>Полож.пед.акселер.,%</th>\n",
       "      <th>Давл.масла двиг.,кПа</th>\n",
       "      <th>Обор.двиг.,об/мин</th>\n",
       "      <th>КПП. Давление масла в системе смазки</th>\n",
       "      <th>Скорость</th>\n",
       "      <th>ДВС. Давление смазки</th>\n",
       "      <th>ДВС. Температура охлаждающей жидкости</th>\n",
       "      <th>Давление в пневмостистеме (spn46), кПа</th>\n",
       "      <th>Электросистема. Напряжение</th>\n",
       "      <th>ДВС. Частота вращения коленчатого вала</th>\n",
       "      <th>Дата и время</th>\n",
       "      <th>target</th>\n",
       "    </tr>\n",
       "  </thead>\n",
       "  <tbody>\n",
       "    <tr>\n",
       "      <th>1765432</th>\n",
       "      <td>0.0</td>\n",
       "      <td>440.0</td>\n",
       "      <td>1663.375</td>\n",
       "      <td>1264.0</td>\n",
       "      <td>9.0</td>\n",
       "      <td>440.0</td>\n",
       "      <td>73.0</td>\n",
       "      <td>760.0</td>\n",
       "      <td>27.75</td>\n",
       "      <td>1663.375</td>\n",
       "      <td>2023-07-18 00:03:22</td>\n",
       "      <td>2</td>\n",
       "    </tr>\n",
       "    <tr>\n",
       "      <th>1431072</th>\n",
       "      <td>0.0</td>\n",
       "      <td>380.0</td>\n",
       "      <td>1916.250</td>\n",
       "      <td>1264.0</td>\n",
       "      <td>0.0</td>\n",
       "      <td>380.0</td>\n",
       "      <td>94.0</td>\n",
       "      <td>824.0</td>\n",
       "      <td>27.95</td>\n",
       "      <td>1916.250</td>\n",
       "      <td>2023-07-17 12:45:25</td>\n",
       "      <td>2</td>\n",
       "    </tr>\n",
       "    <tr>\n",
       "      <th>1331016</th>\n",
       "      <td>0.0</td>\n",
       "      <td>500.0</td>\n",
       "      <td>1911.625</td>\n",
       "      <td>1280.0</td>\n",
       "      <td>NaN</td>\n",
       "      <td>500.0</td>\n",
       "      <td>69.0</td>\n",
       "      <td>808.0</td>\n",
       "      <td>28.25</td>\n",
       "      <td>1911.625</td>\n",
       "      <td>2023-07-16 08:57:46</td>\n",
       "      <td>2</td>\n",
       "    </tr>\n",
       "  </tbody>\n",
       "</table>\n",
       "</div>"
      ],
      "text/plain": [
       "         Полож.пед.акселер.,%  Давл.масла двиг.,кПа  Обор.двиг.,об/мин  \\\n",
       "1765432                   0.0                 440.0           1663.375   \n",
       "1431072                   0.0                 380.0           1916.250   \n",
       "1331016                   0.0                 500.0           1911.625   \n",
       "\n",
       "         КПП. Давление масла в системе смазки  Скорость  ДВС. Давление смазки  \\\n",
       "1765432                                1264.0       9.0                 440.0   \n",
       "1431072                                1264.0       0.0                 380.0   \n",
       "1331016                                1280.0       NaN                 500.0   \n",
       "\n",
       "         ДВС. Температура охлаждающей жидкости  \\\n",
       "1765432                                   73.0   \n",
       "1431072                                   94.0   \n",
       "1331016                                   69.0   \n",
       "\n",
       "         Давление в пневмостистеме (spn46), кПа  Электросистема. Напряжение  \\\n",
       "1765432                                   760.0                       27.75   \n",
       "1431072                                   824.0                       27.95   \n",
       "1331016                                   808.0                       28.25   \n",
       "\n",
       "         ДВС. Частота вращения коленчатого вала        Дата и время  target  \n",
       "1765432                                1663.375 2023-07-18 00:03:22       2  \n",
       "1431072                                1916.250 2023-07-17 12:45:25       2  \n",
       "1331016                                1911.625 2023-07-16 08:57:46       2  "
      ]
     },
     "execution_count": 4,
     "metadata": {},
     "output_type": "execute_result"
    }
   ],
   "source": [
    "all_data.sample(3)"
   ]
  },
  {
   "cell_type": "code",
   "execution_count": 5,
   "metadata": {},
   "outputs": [
    {
     "data": {
      "text/html": [
       "<div>\n",
       "<style scoped>\n",
       "    .dataframe tbody tr th:only-of-type {\n",
       "        vertical-align: middle;\n",
       "    }\n",
       "\n",
       "    .dataframe tbody tr th {\n",
       "        vertical-align: top;\n",
       "    }\n",
       "\n",
       "    .dataframe thead th {\n",
       "        text-align: right;\n",
       "    }\n",
       "</style>\n",
       "<table border=\"1\" class=\"dataframe\">\n",
       "  <thead>\n",
       "    <tr style=\"text-align: right;\">\n",
       "      <th></th>\n",
       "      <th>Полож.пед.акселер.,%</th>\n",
       "      <th>Давл.масла двиг.,кПа</th>\n",
       "      <th>Обор.двиг.,об/мин</th>\n",
       "      <th>КПП. Давление масла в системе смазки</th>\n",
       "      <th>Скорость</th>\n",
       "      <th>ДВС. Давление смазки</th>\n",
       "      <th>ДВС. Температура охлаждающей жидкости</th>\n",
       "      <th>Давление в пневмостистеме (spn46), кПа</th>\n",
       "      <th>Электросистема. Напряжение</th>\n",
       "      <th>ДВС. Частота вращения коленчатого вала</th>\n",
       "      <th>Дата и время</th>\n",
       "      <th>tractor_type</th>\n",
       "    </tr>\n",
       "  </thead>\n",
       "  <tbody>\n",
       "    <tr>\n",
       "      <th>1327685</th>\n",
       "      <td>0.0</td>\n",
       "      <td>328.0</td>\n",
       "      <td>1151.625</td>\n",
       "      <td>1136.0</td>\n",
       "      <td>0.0</td>\n",
       "      <td>328.0</td>\n",
       "      <td>75.0</td>\n",
       "      <td>NaN</td>\n",
       "      <td>27.4</td>\n",
       "      <td>1151.625</td>\n",
       "      <td>2023-07-27 01:13:10</td>\n",
       "      <td>С2586</td>\n",
       "    </tr>\n",
       "    <tr>\n",
       "      <th>1262999</th>\n",
       "      <td>0.0</td>\n",
       "      <td>520.0</td>\n",
       "      <td>1893.000</td>\n",
       "      <td>1200.0</td>\n",
       "      <td>10.2</td>\n",
       "      <td>520.0</td>\n",
       "      <td>76.0</td>\n",
       "      <td>704.0</td>\n",
       "      <td>NaN</td>\n",
       "      <td>1893.000</td>\n",
       "      <td>2023-07-26 01:44:45</td>\n",
       "      <td>С2586</td>\n",
       "    </tr>\n",
       "    <tr>\n",
       "      <th>82882</th>\n",
       "      <td>NaN</td>\n",
       "      <td>NaN</td>\n",
       "      <td>NaN</td>\n",
       "      <td>NaN</td>\n",
       "      <td>NaN</td>\n",
       "      <td>NaN</td>\n",
       "      <td>NaN</td>\n",
       "      <td>NaN</td>\n",
       "      <td>13.1</td>\n",
       "      <td>NaN</td>\n",
       "      <td>2023-05-21 06:33:33</td>\n",
       "      <td>С2177</td>\n",
       "    </tr>\n",
       "  </tbody>\n",
       "</table>\n",
       "</div>"
      ],
      "text/plain": [
       "         Полож.пед.акселер.,%  Давл.масла двиг.,кПа  Обор.двиг.,об/мин  \\\n",
       "1327685                   0.0                 328.0           1151.625   \n",
       "1262999                   0.0                 520.0           1893.000   \n",
       "82882                     NaN                   NaN                NaN   \n",
       "\n",
       "         КПП. Давление масла в системе смазки  Скорость  ДВС. Давление смазки  \\\n",
       "1327685                                1136.0       0.0                 328.0   \n",
       "1262999                                1200.0      10.2                 520.0   \n",
       "82882                                     NaN       NaN                   NaN   \n",
       "\n",
       "         ДВС. Температура охлаждающей жидкости  \\\n",
       "1327685                                   75.0   \n",
       "1262999                                   76.0   \n",
       "82882                                      NaN   \n",
       "\n",
       "         Давление в пневмостистеме (spn46), кПа  Электросистема. Напряжение  \\\n",
       "1327685                                     NaN                        27.4   \n",
       "1262999                                   704.0                         NaN   \n",
       "82882                                       NaN                        13.1   \n",
       "\n",
       "         ДВС. Частота вращения коленчатого вала        Дата и время  \\\n",
       "1327685                                1151.625 2023-07-27 01:13:10   \n",
       "1262999                                1893.000 2023-07-26 01:44:45   \n",
       "82882                                       NaN 2023-05-21 06:33:33   \n",
       "\n",
       "        tractor_type  \n",
       "1327685        С2586  \n",
       "1262999        С2586  \n",
       "82882          С2177  "
      ]
     },
     "execution_count": 5,
     "metadata": {},
     "output_type": "execute_result"
    }
   ],
   "source": [
    "tractor_data.sample(3)"
   ]
  },
  {
   "cell_type": "code",
   "execution_count": 6,
   "metadata": {},
   "outputs": [
    {
     "data": {
      "text/plain": [
       "Полож.пед.акселер.,%                          298\n",
       "Давл.масла двиг.,кПа                         1501\n",
       "Обор.двиг.,об/мин                           15532\n",
       "КПП. Давление масла в системе смазки         3001\n",
       "Скорость                                      597\n",
       "ДВС. Давление смазки                         1601\n",
       "ДВС. Температура охлаждающей жидкости         151\n",
       "Давление в пневмостистеме (spn46), кПа        979\n",
       "Электросистема. Напряжение                    258\n",
       "ДВС. Частота вращения коленчатого вала      15579\n",
       "Дата и время                              2522344\n",
       "target                                          3\n",
       "dtype: int64"
      ]
     },
     "execution_count": 6,
     "metadata": {},
     "output_type": "execute_result"
    }
   ],
   "source": [
    "all_data.nunique()"
   ]
  },
  {
   "cell_type": "code",
   "execution_count": 7,
   "metadata": {},
   "outputs": [
    {
     "data": {
      "text/plain": [
       "Полож.пед.акселер.,%                          251\n",
       "Давл.масла двиг.,кПа                          177\n",
       "Обор.двиг.,об/мин                           12268\n",
       "КПП. Давление масла в системе смазки           88\n",
       "Скорость                                      595\n",
       "ДВС. Давление смазки                          177\n",
       "ДВС. Температура охлаждающей жидкости         108\n",
       "Давление в пневмостистеме (spn46), кПа         84\n",
       "Электросистема. Напряжение                    240\n",
       "ДВС. Частота вращения коленчатого вала      12322\n",
       "Дата и время                              2358528\n",
       "tractor_type                                   14\n",
       "dtype: int64"
      ]
     },
     "execution_count": 7,
     "metadata": {},
     "output_type": "execute_result"
    }
   ],
   "source": [
    "tractor_data.nunique()"
   ]
  },
  {
   "cell_type": "code",
   "execution_count": 8,
   "metadata": {},
   "outputs": [
    {
     "data": {
      "text/plain": [
       "((2666861, 12), (2856565, 12))"
      ]
     },
     "execution_count": 8,
     "metadata": {},
     "output_type": "execute_result"
    }
   ],
   "source": [
    "tractor_data.shape, all_data.shape"
   ]
  },
  {
   "cell_type": "code",
   "execution_count": 9,
   "metadata": {},
   "outputs": [
    {
     "data": {
      "text/plain": [
       "Полож.пед.акселер.,%                       44211\n",
       "Давл.масла двиг.,кПа                       44570\n",
       "Обор.двиг.,об/мин                          47735\n",
       "КПП. Давление масла в системе смазки      203269\n",
       "Скорость                                  154189\n",
       "ДВС. Давление смазки                       44571\n",
       "ДВС. Температура охлаждающей жидкости      50442\n",
       "Давление в пневмостистеме (spn46), кПа    183215\n",
       "Электросистема. Напряжение                553611\n",
       "ДВС. Частота вращения коленчатого вала     43516\n",
       "Дата и время                                   0\n",
       "target                                         0\n",
       "dtype: int64"
      ]
     },
     "execution_count": 9,
     "metadata": {},
     "output_type": "execute_result"
    }
   ],
   "source": [
    "all_data.isna().sum()"
   ]
  },
  {
   "cell_type": "code",
   "execution_count": 10,
   "metadata": {},
   "outputs": [
    {
     "data": {
      "text/plain": [
       "Полож.пед.акселер.,%                       44211\n",
       "Давл.масла двиг.,кПа                       44570\n",
       "Обор.двиг.,об/мин                          47735\n",
       "КПП. Давление масла в системе смазки      203269\n",
       "Скорость                                  154189\n",
       "ДВС. Давление смазки                       44571\n",
       "ДВС. Температура охлаждающей жидкости      50442\n",
       "Давление в пневмостистеме (spn46), кПа    183215\n",
       "Электросистема. Напряжение                553611\n",
       "ДВС. Частота вращения коленчатого вала     43516\n",
       "Дата и время                                   0\n",
       "tractor_type                                   0\n",
       "dtype: int64"
      ]
     },
     "execution_count": 10,
     "metadata": {},
     "output_type": "execute_result"
    }
   ],
   "source": [
    "tractor_data.isna().sum()"
   ]
  },
  {
   "cell_type": "code",
   "execution_count": 11,
   "metadata": {},
   "outputs": [],
   "source": [
    "# all_data.drop_duplicates(inplace=True, ignore_index=True)\n",
    "# tractor_data.drop_duplicates(inplace=True, ignore_index=True)"
   ]
  },
  {
   "cell_type": "code",
   "execution_count": 11,
   "metadata": {},
   "outputs": [
    {
     "data": {
      "text/plain": [
       "((2666861, 12), (2856565, 12))"
      ]
     },
     "execution_count": 11,
     "metadata": {},
     "output_type": "execute_result"
    }
   ],
   "source": [
    "tractor_data.shape, all_data.shape"
   ]
  },
  {
   "cell_type": "code",
   "execution_count": 12,
   "metadata": {},
   "outputs": [],
   "source": [
    "data = pd.merge(all_data,\n",
    "    tractor_data, \n",
    "    on=['Полож.пед.акселер.,%', 'Давл.масла двиг.,кПа', 'Обор.двиг.,об/мин',\n",
    "        'КПП. Давление масла в системе смазки', 'Скорость',\n",
    "        'ДВС. Давление смазки', 'ДВС. Температура охлаждающей жидкости',\n",
    "        'Давление в пневмостистеме (spn46), кПа', 'Электросистема. Напряжение',\n",
    "        'ДВС. Частота вращения коленчатого вала', 'Дата и время'],\n",
    "    how=\"inner\")"
   ]
  },
  {
   "cell_type": "code",
   "execution_count": 14,
   "metadata": {},
   "outputs": [],
   "source": [
    "data.bfill(inplace=True)\n",
    "data.ffill(inplace=True)"
   ]
  },
  {
   "cell_type": "code",
   "execution_count": 13,
   "metadata": {},
   "outputs": [
    {
     "data": {
      "text/plain": [
       "array([0, 2])"
      ]
     },
     "execution_count": 13,
     "metadata": {},
     "output_type": "execute_result"
    }
   ],
   "source": [
    "data[\"target\"].unique()"
   ]
  },
  {
   "cell_type": "code",
   "execution_count": 16,
   "metadata": {},
   "outputs": [
    {
     "data": {
      "text/plain": [
       "(2623314, 13)"
      ]
     },
     "execution_count": 16,
     "metadata": {},
     "output_type": "execute_result"
    }
   ],
   "source": [
    "data.shape"
   ]
  },
  {
   "cell_type": "code",
   "execution_count": 17,
   "metadata": {},
   "outputs": [
    {
     "data": {
      "text/html": [
       "<div>\n",
       "<style scoped>\n",
       "    .dataframe tbody tr th:only-of-type {\n",
       "        vertical-align: middle;\n",
       "    }\n",
       "\n",
       "    .dataframe tbody tr th {\n",
       "        vertical-align: top;\n",
       "    }\n",
       "\n",
       "    .dataframe thead th {\n",
       "        text-align: right;\n",
       "    }\n",
       "</style>\n",
       "<table border=\"1\" class=\"dataframe\">\n",
       "  <thead>\n",
       "    <tr style=\"text-align: right;\">\n",
       "      <th></th>\n",
       "      <th>Полож.пед.акселер.,%</th>\n",
       "      <th>Давл.масла двиг.,кПа</th>\n",
       "      <th>Обор.двиг.,об/мин</th>\n",
       "      <th>КПП. Давление масла в системе смазки</th>\n",
       "      <th>Скорость</th>\n",
       "      <th>ДВС. Давление смазки</th>\n",
       "      <th>ДВС. Температура охлаждающей жидкости</th>\n",
       "      <th>Давление в пневмостистеме (spn46), кПа</th>\n",
       "      <th>Электросистема. Напряжение</th>\n",
       "      <th>ДВС. Частота вращения коленчатого вала</th>\n",
       "      <th>Дата и время</th>\n",
       "      <th>target</th>\n",
       "      <th>tractor_type</th>\n",
       "    </tr>\n",
       "  </thead>\n",
       "  <tbody>\n",
       "    <tr>\n",
       "      <th>216542</th>\n",
       "      <td>1.2</td>\n",
       "      <td>140.0</td>\n",
       "      <td>719.000</td>\n",
       "      <td>544.0</td>\n",
       "      <td>1.2</td>\n",
       "      <td>140.0</td>\n",
       "      <td>72.0</td>\n",
       "      <td>808.0</td>\n",
       "      <td>28.15</td>\n",
       "      <td>719.000</td>\n",
       "      <td>2023-06-06 04:58:37</td>\n",
       "      <td>0</td>\n",
       "      <td>C1969</td>\n",
       "    </tr>\n",
       "    <tr>\n",
       "      <th>2515532</th>\n",
       "      <td>0.0</td>\n",
       "      <td>520.0</td>\n",
       "      <td>1911.000</td>\n",
       "      <td>1216.0</td>\n",
       "      <td>0.0</td>\n",
       "      <td>520.0</td>\n",
       "      <td>74.0</td>\n",
       "      <td>768.0</td>\n",
       "      <td>27.50</td>\n",
       "      <td>1911.000</td>\n",
       "      <td>2023-08-17 23:19:07</td>\n",
       "      <td>2</td>\n",
       "      <td>С2586</td>\n",
       "    </tr>\n",
       "    <tr>\n",
       "      <th>253103</th>\n",
       "      <td>0.0</td>\n",
       "      <td>180.0</td>\n",
       "      <td>653.625</td>\n",
       "      <td>1168.0</td>\n",
       "      <td>0.0</td>\n",
       "      <td>180.0</td>\n",
       "      <td>72.0</td>\n",
       "      <td>808.0</td>\n",
       "      <td>28.25</td>\n",
       "      <td>653.625</td>\n",
       "      <td>2023-06-07 07:32:17</td>\n",
       "      <td>0</td>\n",
       "      <td>C1969</td>\n",
       "    </tr>\n",
       "  </tbody>\n",
       "</table>\n",
       "</div>"
      ],
      "text/plain": [
       "         Полож.пед.акселер.,%  Давл.масла двиг.,кПа  Обор.двиг.,об/мин  \\\n",
       "216542                    1.2                 140.0            719.000   \n",
       "2515532                   0.0                 520.0           1911.000   \n",
       "253103                    0.0                 180.0            653.625   \n",
       "\n",
       "         КПП. Давление масла в системе смазки  Скорость  ДВС. Давление смазки  \\\n",
       "216542                                  544.0       1.2                 140.0   \n",
       "2515532                                1216.0       0.0                 520.0   \n",
       "253103                                 1168.0       0.0                 180.0   \n",
       "\n",
       "         ДВС. Температура охлаждающей жидкости  \\\n",
       "216542                                    72.0   \n",
       "2515532                                   74.0   \n",
       "253103                                    72.0   \n",
       "\n",
       "         Давление в пневмостистеме (spn46), кПа  Электросистема. Напряжение  \\\n",
       "216542                                    808.0                       28.15   \n",
       "2515532                                   768.0                       27.50   \n",
       "253103                                    808.0                       28.25   \n",
       "\n",
       "         ДВС. Частота вращения коленчатого вала        Дата и время  target  \\\n",
       "216542                                  719.000 2023-06-06 04:58:37       0   \n",
       "2515532                                1911.000 2023-08-17 23:19:07       2   \n",
       "253103                                  653.625 2023-06-07 07:32:17       0   \n",
       "\n",
       "        tractor_type  \n",
       "216542         C1969  \n",
       "2515532        С2586  \n",
       "253103         C1969  "
      ]
     },
     "execution_count": 17,
     "metadata": {},
     "output_type": "execute_result"
    }
   ],
   "source": [
    "data.sample(3)"
   ]
  },
  {
   "cell_type": "code",
   "execution_count": 14,
   "metadata": {},
   "outputs": [],
   "source": [
    "data.sort_values([\"tractor_type\", \"target\", \"Дата и время\"], ignore_index=True, axis=0, inplace=True)"
   ]
  },
  {
   "cell_type": "code",
   "execution_count": 15,
   "metadata": {},
   "outputs": [
    {
     "data": {
      "text/plain": [
       "array(['022C4097', '023T0569', '023Т0049', '023Т0255', '023Т0719',\n",
       "       'C1969', 'Р3106', 'С0790', 'С0873', 'С1067', 'С1178', 'С2177',\n",
       "       'С2586', 'С2627 7226ом61'], dtype=object)"
      ]
     },
     "execution_count": 15,
     "metadata": {},
     "output_type": "execute_result"
    }
   ],
   "source": [
    "data[\"tractor_type\"].unique()"
   ]
  },
  {
   "cell_type": "code",
   "execution_count": 16,
   "metadata": {},
   "outputs": [
    {
     "name": "stdout",
     "output_type": "stream",
     "text": [
      "022C4097 [0]\n",
      "023T0569 [0]\n",
      "023Т0049 [0]\n",
      "023Т0255 [2]\n",
      "023Т0719 [0]\n",
      "C1969 [0]\n",
      "Р3106 [2]\n",
      "С0790 [2]\n",
      "С0873 [2]\n",
      "С1067 [2]\n",
      "С1178 [2]\n",
      "С2177 [0]\n",
      "С2586 [2]\n",
      "С2627 7226ом61 [0]\n"
     ]
    }
   ],
   "source": [
    "for tractor in data[\"tractor_type\"].unique():\n",
    "    print(tractor, data[data[\"tractor_type\"] == tractor][\"target\"].unique())"
   ]
  },
  {
   "cell_type": "code",
   "execution_count": 17,
   "metadata": {},
   "outputs": [
    {
     "data": {
      "image/png": "[encoded data removed]",
      "text/plain": [
       "<Figure size 1000x1000 with 12 Axes>"
      ]
     },
     "metadata": {},
     "output_type": "display_data"
    }
   ],
   "source": [
    "fig, axis = plt.subplots(nrows=4, ncols=3, figsize=(10,10))\n",
    "fig.tight_layout(h_pad=2)\n",
    "\n",
    "for i, num_col in enumerate(numeric_cols):\n",
    "    row = i // 3\n",
    "    col = i % 3\n",
    "    df_target_0 = data.loc[data[\"target\"] == 0, num_col]\n",
    "    df_target_2 = data.loc[data[\"target\"] == 2, num_col]\n",
    "    axis[row][col].hist(df_target_0, alpha=0.5, label=\"normal\", density=True, color=\"green\")\n",
    "    axis[row][col].hist(df_target_2, alpha=0.5, label='problem', density=True, color=\"red\")\n",
    "    axis[row][col].legend()\n",
    "    axis[row][col].set_xlabel(num_col)"
   ]
  },
  {
   "cell_type": "code",
   "execution_count": 22,
   "metadata": {},
   "outputs": [],
   "source": [
    "data.sort_values(\"Дата и время\", inplace=True, ignore_index=True)"
   ]
  },
  {
   "cell_type": "code",
   "execution_count": 23,
   "metadata": {},
   "outputs": [
    {
     "data": {
      "text/plain": [
       "(2358528, (2623314, 13))"
      ]
     },
     "execution_count": 23,
     "metadata": {},
     "output_type": "execute_result"
    }
   ],
   "source": [
    "data[\"Дата и время\"].nunique() ,data.shape"
   ]
  },
  {
   "cell_type": "code",
   "execution_count": null,
   "metadata": {},
   "outputs": [],
   "source": []
  }
 ],
 "metadata": {
  "kernelspec": {
   "display_name": ".venv",
   "language": "python",
   "name": "python3"
  },
  "language_info": {
   "codemirror_mode": {
    "name": "ipython",
    "version": 3
   },
   "file_extension": ".py",
   "mimetype": "text/x-python",
   "name": "python",
   "nbconvert_exporter": "python",
   "pygments_lexer": "ipython3",
   "version": "3.10.12"
  }
 },
 "nbformat": 4,
 "nbformat_minor": 2
}
