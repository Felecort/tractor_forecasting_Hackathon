{
 "cells": [
  {
   "cell_type": "code",
   "execution_count": 1,
   "metadata": {},
   "outputs": [],
   "source": [
    "import numpy as np\n",
    "import pandas as pd\n",
    "import sklearn\n",
    "from pathlib import Path\n",
    "import matplotlib.pyplot as plt\n",
    "import re\n",
    "from utils import *\n",
    "\n",
    "pd.set_option('future.no_silent_downcasting', True)"
   ]
  },
  {
   "cell_type": "code",
   "execution_count": 2,
   "metadata": {},
   "outputs": [],
   "source": [
    "path_data = Path(\"../data\")"
   ]
  },
  {
   "cell_type": "code",
   "execution_count": 3,
   "metadata": {},
   "outputs": [],
   "source": [
    "all_data = pd.read_pickle(path_data / \"analysis_with_nan.pickle\")\n",
    "tractor_data = pd.read_pickle(path_data / \"operator_with_nan.pickle\")"
   ]
  },
  {
   "cell_type": "code",
   "execution_count": 4,
   "metadata": {},
   "outputs": [
    {
     "data": {
      "text/html": [
       "<div>\n",
       "<style scoped>\n",
       "    .dataframe tbody tr th:only-of-type {\n",
       "        vertical-align: middle;\n",
       "    }\n",
       "\n",
       "    .dataframe tbody tr th {\n",
       "        vertical-align: top;\n",
       "    }\n",
       "\n",
       "    .dataframe thead th {\n",
       "        text-align: right;\n",
       "    }\n",
       "</style>\n",
       "<table border=\"1\" class=\"dataframe\">\n",
       "  <thead>\n",
       "    <tr style=\"text-align: right;\">\n",
       "      <th></th>\n",
       "      <th>Полож.пед.акселер.,%</th>\n",
       "      <th>Давл.масла двиг.,кПа</th>\n",
       "      <th>Обор.двиг.,об/мин</th>\n",
       "      <th>КПП. Давление масла в системе смазки</th>\n",
       "      <th>Скорость</th>\n",
       "      <th>ДВС. Давление смазки</th>\n",
       "      <th>ДВС. Температура охлаждающей жидкости</th>\n",
       "      <th>Давление в пневмостистеме (spn46), кПа</th>\n",
       "      <th>Электросистема. Напряжение</th>\n",
       "      <th>ДВС. Частота вращения коленчатого вала</th>\n",
       "      <th>Дата и время</th>\n",
       "      <th>target</th>\n",
       "    </tr>\n",
       "  </thead>\n",
       "  <tbody>\n",
       "    <tr>\n",
       "      <th>1683879</th>\n",
       "      <td>0.0</td>\n",
       "      <td>460.0</td>\n",
       "      <td>1851.25</td>\n",
       "      <td>1248.0</td>\n",
       "      <td>12.1</td>\n",
       "      <td>460.0</td>\n",
       "      <td>75.0</td>\n",
       "      <td>728.0</td>\n",
       "      <td>27.75</td>\n",
       "      <td>1851.25</td>\n",
       "      <td>2023-07-16 21:08:21</td>\n",
       "      <td>2</td>\n",
       "    </tr>\n",
       "    <tr>\n",
       "      <th>3322197</th>\n",
       "      <td>0.0</td>\n",
       "      <td>548.0</td>\n",
       "      <td>1907.00</td>\n",
       "      <td>1216.0</td>\n",
       "      <td>0.0</td>\n",
       "      <td>548.0</td>\n",
       "      <td>71.0</td>\n",
       "      <td>768.0</td>\n",
       "      <td>NaN</td>\n",
       "      <td>1907.00</td>\n",
       "      <td>2023-08-23 00:33:49</td>\n",
       "      <td>2</td>\n",
       "    </tr>\n",
       "    <tr>\n",
       "      <th>685097</th>\n",
       "      <td>0.0</td>\n",
       "      <td>148.0</td>\n",
       "      <td>701.00</td>\n",
       "      <td>1072.0</td>\n",
       "      <td>0.0</td>\n",
       "      <td>148.0</td>\n",
       "      <td>79.0</td>\n",
       "      <td>816.0</td>\n",
       "      <td>28.20</td>\n",
       "      <td>701.00</td>\n",
       "      <td>2023-06-08 22:15:35</td>\n",
       "      <td>0</td>\n",
       "    </tr>\n",
       "  </tbody>\n",
       "</table>\n",
       "</div>"
      ],
      "text/plain": [
       "         Полож.пед.акселер.,%  Давл.масла двиг.,кПа  Обор.двиг.,об/мин  \\\n",
       "1683879                   0.0                 460.0            1851.25   \n",
       "3322197                   0.0                 548.0            1907.00   \n",
       "685097                    0.0                 148.0             701.00   \n",
       "\n",
       "         КПП. Давление масла в системе смазки  Скорость  ДВС. Давление смазки  \\\n",
       "1683879                                1248.0      12.1                 460.0   \n",
       "3322197                                1216.0       0.0                 548.0   \n",
       "685097                                 1072.0       0.0                 148.0   \n",
       "\n",
       "         ДВС. Температура охлаждающей жидкости  \\\n",
       "1683879                                   75.0   \n",
       "3322197                                   71.0   \n",
       "685097                                    79.0   \n",
       "\n",
       "         Давление в пневмостистеме (spn46), кПа  Электросистема. Напряжение  \\\n",
       "1683879                                   728.0                       27.75   \n",
       "3322197                                   768.0                         NaN   \n",
       "685097                                    816.0                       28.20   \n",
       "\n",
       "         ДВС. Частота вращения коленчатого вала        Дата и время  target  \n",
       "1683879                                 1851.25 2023-07-16 21:08:21       2  \n",
       "3322197                                 1907.00 2023-08-23 00:33:49       2  \n",
       "685097                                   701.00 2023-06-08 22:15:35       0  "
      ]
     },
     "execution_count": 4,
     "metadata": {},
     "output_type": "execute_result"
    }
   ],
   "source": [
    "all_data.sample(3)"
   ]
  },
  {
   "cell_type": "code",
   "execution_count": 5,
   "metadata": {},
   "outputs": [
    {
     "data": {
      "text/html": [
       "<div>\n",
       "<style scoped>\n",
       "    .dataframe tbody tr th:only-of-type {\n",
       "        vertical-align: middle;\n",
       "    }\n",
       "\n",
       "    .dataframe tbody tr th {\n",
       "        vertical-align: top;\n",
       "    }\n",
       "\n",
       "    .dataframe thead th {\n",
       "        text-align: right;\n",
       "    }\n",
       "</style>\n",
       "<table border=\"1\" class=\"dataframe\">\n",
       "  <thead>\n",
       "    <tr style=\"text-align: right;\">\n",
       "      <th></th>\n",
       "      <th>Полож.пед.акселер.,%</th>\n",
       "      <th>Давл.масла двиг.,кПа</th>\n",
       "      <th>Обор.двиг.,об/мин</th>\n",
       "      <th>КПП. Давление масла в системе смазки</th>\n",
       "      <th>Скорость</th>\n",
       "      <th>ДВС. Давление смазки</th>\n",
       "      <th>ДВС. Температура охлаждающей жидкости</th>\n",
       "      <th>Давление в пневмостистеме (spn46), кПа</th>\n",
       "      <th>Электросистема. Напряжение</th>\n",
       "      <th>ДВС. Частота вращения коленчатого вала</th>\n",
       "      <th>Дата и время</th>\n",
       "      <th>tractor_type</th>\n",
       "    </tr>\n",
       "  </thead>\n",
       "  <tbody>\n",
       "    <tr>\n",
       "      <th>1260795</th>\n",
       "      <td>0.0</td>\n",
       "      <td>520.0</td>\n",
       "      <td>1872.000</td>\n",
       "      <td>1184.0</td>\n",
       "      <td>10.1</td>\n",
       "      <td>520.0</td>\n",
       "      <td>76.0</td>\n",
       "      <td>776.0</td>\n",
       "      <td>27.55</td>\n",
       "      <td>1872.000</td>\n",
       "      <td>2023-07-26 01:08:01</td>\n",
       "      <td>С2586</td>\n",
       "    </tr>\n",
       "    <tr>\n",
       "      <th>2733188</th>\n",
       "      <td>0.0</td>\n",
       "      <td>448.0</td>\n",
       "      <td>1587.875</td>\n",
       "      <td>1200.0</td>\n",
       "      <td>0.0</td>\n",
       "      <td>448.0</td>\n",
       "      <td>82.0</td>\n",
       "      <td>768.0</td>\n",
       "      <td>27.70</td>\n",
       "      <td>1587.875</td>\n",
       "      <td>2023-06-01 11:22:33</td>\n",
       "      <td>023Т0719</td>\n",
       "    </tr>\n",
       "    <tr>\n",
       "      <th>634390</th>\n",
       "      <td>0.0</td>\n",
       "      <td>500.0</td>\n",
       "      <td>1916.250</td>\n",
       "      <td>1280.0</td>\n",
       "      <td>NaN</td>\n",
       "      <td>500.0</td>\n",
       "      <td>71.0</td>\n",
       "      <td>824.0</td>\n",
       "      <td>27.70</td>\n",
       "      <td>1916.250</td>\n",
       "      <td>2023-07-17 00:53:14</td>\n",
       "      <td>С0790</td>\n",
       "    </tr>\n",
       "  </tbody>\n",
       "</table>\n",
       "</div>"
      ],
      "text/plain": [
       "         Полож.пед.акселер.,%  Давл.масла двиг.,кПа  Обор.двиг.,об/мин  \\\n",
       "1260795                   0.0                 520.0           1872.000   \n",
       "2733188                   0.0                 448.0           1587.875   \n",
       "634390                    0.0                 500.0           1916.250   \n",
       "\n",
       "         КПП. Давление масла в системе смазки  Скорость  ДВС. Давление смазки  \\\n",
       "1260795                                1184.0      10.1                 520.0   \n",
       "2733188                                1200.0       0.0                 448.0   \n",
       "634390                                 1280.0       NaN                 500.0   \n",
       "\n",
       "         ДВС. Температура охлаждающей жидкости  \\\n",
       "1260795                                   76.0   \n",
       "2733188                                   82.0   \n",
       "634390                                    71.0   \n",
       "\n",
       "         Давление в пневмостистеме (spn46), кПа  Электросистема. Напряжение  \\\n",
       "1260795                                   776.0                       27.55   \n",
       "2733188                                   768.0                       27.70   \n",
       "634390                                    824.0                       27.70   \n",
       "\n",
       "         ДВС. Частота вращения коленчатого вала        Дата и время  \\\n",
       "1260795                                1872.000 2023-07-26 01:08:01   \n",
       "2733188                                1587.875 2023-06-01 11:22:33   \n",
       "634390                                 1916.250 2023-07-17 00:53:14   \n",
       "\n",
       "        tractor_type  \n",
       "1260795        С2586  \n",
       "2733188     023Т0719  \n",
       "634390         С0790  "
      ]
     },
     "execution_count": 5,
     "metadata": {},
     "output_type": "execute_result"
    }
   ],
   "source": [
    "tractor_data.sample(3)"
   ]
  },
  {
   "cell_type": "code",
   "execution_count": 6,
   "metadata": {},
   "outputs": [
    {
     "data": {
      "text/plain": [
       "Полож.пед.акселер.,%                          298\n",
       "Давл.масла двиг.,кПа                         1501\n",
       "Обор.двиг.,об/мин                           15532\n",
       "КПП. Давление масла в системе смазки         3001\n",
       "Скорость                                      597\n",
       "ДВС. Давление смазки                         1601\n",
       "ДВС. Температура охлаждающей жидкости         151\n",
       "Давление в пневмостистеме (spn46), кПа        979\n",
       "Электросистема. Напряжение                    258\n",
       "ДВС. Частота вращения коленчатого вала      15579\n",
       "Дата и время                              2522344\n",
       "target                                          3\n",
       "dtype: int64"
      ]
     },
     "execution_count": 6,
     "metadata": {},
     "output_type": "execute_result"
    }
   ],
   "source": [
    "all_data.nunique()"
   ]
  },
  {
   "cell_type": "code",
   "execution_count": 7,
   "metadata": {},
   "outputs": [
    {
     "data": {
      "text/plain": [
       "Полож.пед.акселер.,%                          251\n",
       "Давл.масла двиг.,кПа                          177\n",
       "Обор.двиг.,об/мин                           12268\n",
       "КПП. Давление масла в системе смазки           88\n",
       "Скорость                                      595\n",
       "ДВС. Давление смазки                          177\n",
       "ДВС. Температура охлаждающей жидкости         108\n",
       "Давление в пневмостистеме (spn46), кПа         84\n",
       "Электросистема. Напряжение                    240\n",
       "ДВС. Частота вращения коленчатого вала      12322\n",
       "Дата и время                              2358528\n",
       "tractor_type                                   14\n",
       "dtype: int64"
      ]
     },
     "execution_count": 7,
     "metadata": {},
     "output_type": "execute_result"
    }
   ],
   "source": [
    "tractor_data.nunique()"
   ]
  },
  {
   "cell_type": "code",
   "execution_count": 8,
   "metadata": {},
   "outputs": [
    {
     "data": {
      "text/plain": [
       "((2666861, 12), (2856565, 12))"
      ]
     },
     "execution_count": 8,
     "metadata": {},
     "output_type": "execute_result"
    }
   ],
   "source": [
    "tractor_data.shape, all_data.shape"
   ]
  },
  {
   "cell_type": "code",
   "execution_count": 9,
   "metadata": {},
   "outputs": [
    {
     "data": {
      "text/plain": [
       "Полож.пед.акселер.,%                       44211\n",
       "Давл.масла двиг.,кПа                       44570\n",
       "Обор.двиг.,об/мин                          47735\n",
       "КПП. Давление масла в системе смазки      203269\n",
       "Скорость                                  154189\n",
       "ДВС. Давление смазки                       44571\n",
       "ДВС. Температура охлаждающей жидкости      50442\n",
       "Давление в пневмостистеме (spn46), кПа    183215\n",
       "Электросистема. Напряжение                553611\n",
       "ДВС. Частота вращения коленчатого вала     43516\n",
       "Дата и время                                   0\n",
       "target                                         0\n",
       "dtype: int64"
      ]
     },
     "execution_count": 9,
     "metadata": {},
     "output_type": "execute_result"
    }
   ],
   "source": [
    "all_data.isna().sum()"
   ]
  },
  {
   "cell_type": "code",
   "execution_count": 10,
   "metadata": {},
   "outputs": [
    {
     "data": {
      "text/plain": [
       "Полож.пед.акселер.,%                       44211\n",
       "Давл.масла двиг.,кПа                       44570\n",
       "Обор.двиг.,об/мин                          47735\n",
       "КПП. Давление масла в системе смазки      203269\n",
       "Скорость                                  154189\n",
       "ДВС. Давление смазки                       44571\n",
       "ДВС. Температура охлаждающей жидкости      50442\n",
       "Давление в пневмостистеме (spn46), кПа    183215\n",
       "Электросистема. Напряжение                553611\n",
       "ДВС. Частота вращения коленчатого вала     43516\n",
       "Дата и время                                   0\n",
       "tractor_type                                   0\n",
       "dtype: int64"
      ]
     },
     "execution_count": 10,
     "metadata": {},
     "output_type": "execute_result"
    }
   ],
   "source": [
    "tractor_data.isna().sum()"
   ]
  },
  {
   "cell_type": "code",
   "execution_count": 11,
   "metadata": {},
   "outputs": [],
   "source": [
    "all_data.drop_duplicates(inplace=True, ignore_index=True)\n",
    "tractor_data.drop_duplicates(inplace=True, ignore_index=True)"
   ]
  },
  {
   "cell_type": "code",
   "execution_count": 12,
   "metadata": {},
   "outputs": [
    {
     "data": {
      "text/plain": [
       "((2623314, 12), (2813018, 12))"
      ]
     },
     "execution_count": 12,
     "metadata": {},
     "output_type": "execute_result"
    }
   ],
   "source": [
    "tractor_data.shape, all_data.shape"
   ]
  },
  {
   "cell_type": "code",
   "execution_count": 13,
   "metadata": {},
   "outputs": [],
   "source": [
    "data = pd.merge(all_data,\n",
    "    tractor_data, \n",
    "    on=['Полож.пед.акселер.,%', 'Давл.масла двиг.,кПа', 'Обор.двиг.,об/мин',\n",
    "        'КПП. Давление масла в системе смазки', 'Скорость',\n",
    "        'ДВС. Давление смазки', 'ДВС. Температура охлаждающей жидкости',\n",
    "        'Давление в пневмостистеме (spn46), кПа', 'Электросистема. Напряжение',\n",
    "        'ДВС. Частота вращения коленчатого вала', 'Дата и время'],\n",
    "    how=\"inner\")"
   ]
  },
  {
   "cell_type": "code",
   "execution_count": 14,
   "metadata": {},
   "outputs": [],
   "source": [
    "data.bfill(inplace=True)\n",
    "data.ffill(inplace=True)"
   ]
  },
  {
   "cell_type": "code",
   "execution_count": 15,
   "metadata": {},
   "outputs": [
    {
     "data": {
      "text/plain": [
       "array([0, 2])"
      ]
     },
     "execution_count": 15,
     "metadata": {},
     "output_type": "execute_result"
    }
   ],
   "source": [
    "data[\"target\"].unique()"
   ]
  },
  {
   "cell_type": "code",
   "execution_count": 16,
   "metadata": {},
   "outputs": [
    {
     "data": {
      "text/plain": [
       "(2623314, 13)"
      ]
     },
     "execution_count": 16,
     "metadata": {},
     "output_type": "execute_result"
    }
   ],
   "source": [
    "data.shape"
   ]
  },
  {
   "cell_type": "code",
   "execution_count": 17,
   "metadata": {},
   "outputs": [
    {
     "data": {
      "text/html": [
       "<div>\n",
       "<style scoped>\n",
       "    .dataframe tbody tr th:only-of-type {\n",
       "        vertical-align: middle;\n",
       "    }\n",
       "\n",
       "    .dataframe tbody tr th {\n",
       "        vertical-align: top;\n",
       "    }\n",
       "\n",
       "    .dataframe thead th {\n",
       "        text-align: right;\n",
       "    }\n",
       "</style>\n",
       "<table border=\"1\" class=\"dataframe\">\n",
       "  <thead>\n",
       "    <tr style=\"text-align: right;\">\n",
       "      <th></th>\n",
       "      <th>Полож.пед.акселер.,%</th>\n",
       "      <th>Давл.масла двиг.,кПа</th>\n",
       "      <th>Обор.двиг.,об/мин</th>\n",
       "      <th>КПП. Давление масла в системе смазки</th>\n",
       "      <th>Скорость</th>\n",
       "      <th>ДВС. Давление смазки</th>\n",
       "      <th>ДВС. Температура охлаждающей жидкости</th>\n",
       "      <th>Давление в пневмостистеме (spn46), кПа</th>\n",
       "      <th>Электросистема. Напряжение</th>\n",
       "      <th>ДВС. Частота вращения коленчатого вала</th>\n",
       "      <th>Дата и время</th>\n",
       "      <th>target</th>\n",
       "      <th>tractor_type</th>\n",
       "    </tr>\n",
       "  </thead>\n",
       "  <tbody>\n",
       "    <tr>\n",
       "      <th>814119</th>\n",
       "      <td>0.0</td>\n",
       "      <td>500.0</td>\n",
       "      <td>1907.000</td>\n",
       "      <td>1296.0</td>\n",
       "      <td>0.0</td>\n",
       "      <td>500.0</td>\n",
       "      <td>72.0</td>\n",
       "      <td>784.0</td>\n",
       "      <td>28.15</td>\n",
       "      <td>1907.000</td>\n",
       "      <td>2023-07-31 17:59:05</td>\n",
       "      <td>2</td>\n",
       "      <td>С0790</td>\n",
       "    </tr>\n",
       "    <tr>\n",
       "      <th>1553545</th>\n",
       "      <td>94.8</td>\n",
       "      <td>460.0</td>\n",
       "      <td>1914.750</td>\n",
       "      <td>1264.0</td>\n",
       "      <td>10.4</td>\n",
       "      <td>460.0</td>\n",
       "      <td>76.0</td>\n",
       "      <td>768.0</td>\n",
       "      <td>28.05</td>\n",
       "      <td>1914.750</td>\n",
       "      <td>2023-06-24 12:14:01</td>\n",
       "      <td>2</td>\n",
       "      <td>С1067</td>\n",
       "    </tr>\n",
       "    <tr>\n",
       "      <th>1739240</th>\n",
       "      <td>0.0</td>\n",
       "      <td>160.0</td>\n",
       "      <td>650.375</td>\n",
       "      <td>1200.0</td>\n",
       "      <td>0.0</td>\n",
       "      <td>160.0</td>\n",
       "      <td>68.0</td>\n",
       "      <td>760.0</td>\n",
       "      <td>27.50</td>\n",
       "      <td>650.375</td>\n",
       "      <td>2023-09-30 00:54:39</td>\n",
       "      <td>2</td>\n",
       "      <td>С1178</td>\n",
       "    </tr>\n",
       "  </tbody>\n",
       "</table>\n",
       "</div>"
      ],
      "text/plain": [
       "         Полож.пед.акселер.,%  Давл.масла двиг.,кПа  Обор.двиг.,об/мин  \\\n",
       "814119                    0.0                 500.0           1907.000   \n",
       "1553545                  94.8                 460.0           1914.750   \n",
       "1739240                   0.0                 160.0            650.375   \n",
       "\n",
       "         КПП. Давление масла в системе смазки  Скорость  ДВС. Давление смазки  \\\n",
       "814119                                 1296.0       0.0                 500.0   \n",
       "1553545                                1264.0      10.4                 460.0   \n",
       "1739240                                1200.0       0.0                 160.0   \n",
       "\n",
       "         ДВС. Температура охлаждающей жидкости  \\\n",
       "814119                                    72.0   \n",
       "1553545                                   76.0   \n",
       "1739240                                   68.0   \n",
       "\n",
       "         Давление в пневмостистеме (spn46), кПа  Электросистема. Напряжение  \\\n",
       "814119                                    784.0                       28.15   \n",
       "1553545                                   768.0                       28.05   \n",
       "1739240                                   760.0                       27.50   \n",
       "\n",
       "         ДВС. Частота вращения коленчатого вала        Дата и время  target  \\\n",
       "814119                                 1907.000 2023-07-31 17:59:05       2   \n",
       "1553545                                1914.750 2023-06-24 12:14:01       2   \n",
       "1739240                                 650.375 2023-09-30 00:54:39       2   \n",
       "\n",
       "        tractor_type  \n",
       "814119         С0790  \n",
       "1553545        С1067  \n",
       "1739240        С1178  "
      ]
     },
     "execution_count": 17,
     "metadata": {},
     "output_type": "execute_result"
    }
   ],
   "source": [
    "data.sample(3)"
   ]
  },
  {
   "cell_type": "code",
   "execution_count": 18,
   "metadata": {},
   "outputs": [],
   "source": [
    "data.sort_values([\"tractor_type\", \"target\", \"Дата и время\"], ignore_index=True, axis=0, inplace=True)"
   ]
  },
  {
   "cell_type": "code",
   "execution_count": 19,
   "metadata": {},
   "outputs": [
    {
     "data": {
      "text/plain": [
       "array(['022C4097', '023T0569', '023Т0049', '023Т0255', '023Т0719',\n",
       "       'C1969', 'Р3106', 'С0790', 'С0873', 'С1067', 'С1178', 'С2177',\n",
       "       'С2586', 'С2627 7226ом61'], dtype=object)"
      ]
     },
     "execution_count": 19,
     "metadata": {},
     "output_type": "execute_result"
    }
   ],
   "source": [
    "data[\"tractor_type\"].unique()"
   ]
  },
  {
   "cell_type": "code",
   "execution_count": 20,
   "metadata": {},
   "outputs": [
    {
     "name": "stdout",
     "output_type": "stream",
     "text": [
      "[0]\n",
      "[0]\n",
      "[0]\n",
      "[2]\n",
      "[0]\n",
      "[0]\n",
      "[2]\n",
      "[2]\n",
      "[2]\n",
      "[2]\n",
      "[2]\n",
      "[0]\n",
      "[2]\n",
      "[0]\n"
     ]
    }
   ],
   "source": [
    "for tractor in data[\"tractor_type\"].unique():\n",
    "    print(data[data[\"tractor_type\"] == tractor][\"target\"].unique())"
   ]
  },
  {
   "cell_type": "code",
   "execution_count": 62,
   "metadata": {},
   "outputs": [
    {
     "data": {
      "image/png": "[encoded data removed]",
      "text/plain": [
       "<Figure size 1000x1000 with 12 Axes>"
      ]
     },
     "metadata": {},
     "output_type": "display_data"
    }
   ],
   "source": [
    "fig, axis = plt.subplots(nrows=4, ncols=3, figsize=(10,10))\n",
    "fig.tight_layout(h_pad=2)\n",
    "\n",
    "for i, num_col in enumerate(numeric_cols):\n",
    "    row = i // 3\n",
    "    col = i % 3\n",
    "    df_target_0 = data.loc[data[\"target\"] == 0, num_col]\n",
    "    df_target_2 = data.loc[data[\"target\"] == 2, num_col]\n",
    "    axis[row][col].hist(df_target_0, alpha=0.5, label=\"normal\", density=True)\n",
    "    axis[row][col].hist(df_target_2, alpha=0.5, label='problem', density=True)\n",
    "    axis[row][col].legend()\n",
    "    axis[row][col].set_xlabel(num_col)"
   ]
  },
  {
   "cell_type": "code",
   "execution_count": 21,
   "metadata": {},
   "outputs": [],
   "source": [
    "data.sort_values(\"Дата и время\", inplace=True, ignore_index=True)"
   ]
  },
  {
   "cell_type": "code",
   "execution_count": 22,
   "metadata": {},
   "outputs": [
    {
     "data": {
      "text/plain": [
       "(2358528, (2623314, 13))"
      ]
     },
     "execution_count": 22,
     "metadata": {},
     "output_type": "execute_result"
    }
   ],
   "source": [
    "data[\"Дата и время\"].nunique() ,data.shape"
   ]
  },
  {
   "cell_type": "code",
   "execution_count": null,
   "metadata": {},
   "outputs": [],
   "source": []
  }
 ],
 "metadata": {
  "kernelspec": {
   "display_name": ".venv",
   "language": "python",
   "name": "python3"
  },
  "language_info": {
   "codemirror_mode": {
    "name": "ipython",
    "version": 3
   },
   "file_extension": ".py",
   "mimetype": "text/x-python",
   "name": "python",
   "nbconvert_exporter": "python",
   "pygments_lexer": "ipython3",
   "version": "3.10.12"
  }
 },
 "nbformat": 4,
 "nbformat_minor": 2
}
