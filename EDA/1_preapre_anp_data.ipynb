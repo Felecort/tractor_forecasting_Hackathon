{
 "cells": [
  {
   "cell_type": "code",
   "execution_count": 1,
   "metadata": {},
   "outputs": [],
   "source": [
    "import numpy as np\n",
    "import pandas as pd\n",
    "import sklearn\n",
    "from pathlib import Path\n",
    "import matplotlib.pyplot as plt\n",
    "import re\n",
    "from utils import *\n",
    "\n",
    "pd.set_option('future.no_silent_downcasting', True)"
   ]
  },
  {
   "cell_type": "markdown",
   "metadata": {},
   "source": [
    "# Read target data"
   ]
  },
  {
   "cell_type": "code",
   "execution_count": 2,
   "metadata": {},
   "outputs": [],
   "source": [
    "path_data = Path(\"../data\")"
   ]
  },
  {
   "cell_type": "code",
   "execution_count": 3,
   "metadata": {},
   "outputs": [],
   "source": [
    "_anomaly_data = pd.read_csv(path_data / \"для анализа/dataset._anomaly.csv\", sep=\";\", low_memory=False)\n",
    "_normal_data = pd.read_csv(path_data / \"для анализа/dataset._normal.csv\", sep=\";\", low_memory=False)\n",
    "_problems_data = pd.read_csv(path_data / \"для анализа/dataset._problems.csv\", sep=\";\", low_memory=False)"
   ]
  },
  {
   "cell_type": "markdown",
   "metadata": {},
   "source": [
    "# EDA"
   ]
  },
  {
   "cell_type": "code",
   "execution_count": 4,
   "metadata": {},
   "outputs": [],
   "source": [
    "anomaly_data = _anomaly_data.copy()\n",
    "normal_data = _normal_data.copy()\n",
    "problems_data = _problems_data.copy()"
   ]
  },
  {
   "cell_type": "code",
   "execution_count": 5,
   "metadata": {},
   "outputs": [],
   "source": [
    "datasets = [anomaly_data, normal_data, problems_data]"
   ]
  },
  {
   "cell_type": "code",
   "execution_count": 6,
   "metadata": {},
   "outputs": [],
   "source": [
    "for dataset in datasets:\n",
    "    dataset.drop(cols_to_remove, axis=1, inplace=True)"
   ]
  },
  {
   "cell_type": "code",
   "execution_count": 7,
   "metadata": {},
   "outputs": [],
   "source": [
    "normal_data[\"target\"] = 0\n",
    "anomaly_data[\"target\"] = 1\n",
    "problems_data[\"target\"] = 2\n",
    "all_data = pd.concat([normal_data, anomaly_data, problems_data], axis=0, ignore_index=True)\n"
   ]
  },
  {
   "cell_type": "code",
   "execution_count": 8,
   "metadata": {},
   "outputs": [
    {
     "name": "stdout",
     "output_type": "stream",
     "text": [
      "(2856565, 12)\n"
     ]
    }
   ],
   "source": [
    "fill_space_with_nans(all_data)\n",
    "all_data = remove_null_ros(all_data)\n",
    "\n",
    "print(all_data.shape)"
   ]
  },
  {
   "cell_type": "code",
   "execution_count": 9,
   "metadata": {},
   "outputs": [
    {
     "data": {
      "text/html": [
       "<div>\n",
       "<style scoped>\n",
       "    .dataframe tbody tr th:only-of-type {\n",
       "        vertical-align: middle;\n",
       "    }\n",
       "\n",
       "    .dataframe tbody tr th {\n",
       "        vertical-align: top;\n",
       "    }\n",
       "\n",
       "    .dataframe thead th {\n",
       "        text-align: right;\n",
       "    }\n",
       "</style>\n",
       "<table border=\"1\" class=\"dataframe\">\n",
       "  <thead>\n",
       "    <tr style=\"text-align: right;\">\n",
       "      <th></th>\n",
       "      <th>Полож.пед.акселер.,%</th>\n",
       "      <th>Давл.масла двиг.,кПа</th>\n",
       "      <th>Обор.двиг.,об/мин</th>\n",
       "      <th>КПП. Давление масла в системе смазки</th>\n",
       "      <th>Скорость</th>\n",
       "      <th>ДВС. Давление смазки</th>\n",
       "      <th>ДВС. Температура охлаждающей жидкости</th>\n",
       "      <th>Давление в пневмостистеме (spn46), кПа</th>\n",
       "      <th>Электросистема. Напряжение</th>\n",
       "      <th>ДВС. Частота вращения коленчатого вала</th>\n",
       "      <th>Дата и время</th>\n",
       "      <th>target</th>\n",
       "    </tr>\n",
       "  </thead>\n",
       "  <tbody>\n",
       "    <tr>\n",
       "      <th>384</th>\n",
       "      <td>0,0</td>\n",
       "      <td>0</td>\n",
       "      <td>0,000</td>\n",
       "      <td>NaN</td>\n",
       "      <td>0</td>\n",
       "      <td>0</td>\n",
       "      <td>35</td>\n",
       "      <td>NaN</td>\n",
       "      <td>NaN</td>\n",
       "      <td>0</td>\n",
       "      <td>01/06/2023 07:57:01</td>\n",
       "      <td>0</td>\n",
       "    </tr>\n",
       "    <tr>\n",
       "      <th>386</th>\n",
       "      <td>0,0</td>\n",
       "      <td>380</td>\n",
       "      <td>649,000</td>\n",
       "      <td>1184</td>\n",
       "      <td>0</td>\n",
       "      <td>380</td>\n",
       "      <td>34</td>\n",
       "      <td>760</td>\n",
       "      <td>27.2</td>\n",
       "      <td>649</td>\n",
       "      <td>01/06/2023 07:57:31</td>\n",
       "      <td>0</td>\n",
       "    </tr>\n",
       "    <tr>\n",
       "      <th>387</th>\n",
       "      <td>0,0</td>\n",
       "      <td>360</td>\n",
       "      <td>651,000</td>\n",
       "      <td>1200</td>\n",
       "      <td>0</td>\n",
       "      <td>360</td>\n",
       "      <td>34</td>\n",
       "      <td>816</td>\n",
       "      <td>28.05</td>\n",
       "      <td>651</td>\n",
       "      <td>01/06/2023 07:58:01</td>\n",
       "      <td>0</td>\n",
       "    </tr>\n",
       "  </tbody>\n",
       "</table>\n",
       "</div>"
      ],
      "text/plain": [
       "    Полож.пед.акселер.,% Давл.масла двиг.,кПа Обор.двиг.,об/мин  \\\n",
       "384                  0,0                    0             0,000   \n",
       "386                  0,0                  380           649,000   \n",
       "387                  0,0                  360           651,000   \n",
       "\n",
       "    КПП. Давление масла в системе смазки Скорость ДВС. Давление смазки  \\\n",
       "384                                  NaN        0                    0   \n",
       "386                                 1184        0                  380   \n",
       "387                                 1200        0                  360   \n",
       "\n",
       "    ДВС. Температура охлаждающей жидкости  \\\n",
       "384                                    35   \n",
       "386                                    34   \n",
       "387                                    34   \n",
       "\n",
       "    Давление в пневмостистеме (spn46), кПа Электросистема. Напряжение  \\\n",
       "384                                    NaN                        NaN   \n",
       "386                                    760                       27.2   \n",
       "387                                    816                      28.05   \n",
       "\n",
       "    ДВС. Частота вращения коленчатого вала         Дата и время  target  \n",
       "384                                      0  01/06/2023 07:57:01       0  \n",
       "386                                    649  01/06/2023 07:57:31       0  \n",
       "387                                    651  01/06/2023 07:58:01       0  "
      ]
     },
     "execution_count": 9,
     "metadata": {},
     "output_type": "execute_result"
    }
   ],
   "source": [
    "all_data.head(3)"
   ]
  },
  {
   "cell_type": "code",
   "execution_count": 10,
   "metadata": {},
   "outputs": [],
   "source": [
    "for col in brake_int_cols:\n",
    "    all_data[col] = all_data[col].str.replace(\",\", \".\")"
   ]
  },
  {
   "cell_type": "code",
   "execution_count": 11,
   "metadata": {},
   "outputs": [
    {
     "data": {
      "text/html": [
       "<div>\n",
       "<style scoped>\n",
       "    .dataframe tbody tr th:only-of-type {\n",
       "        vertical-align: middle;\n",
       "    }\n",
       "\n",
       "    .dataframe tbody tr th {\n",
       "        vertical-align: top;\n",
       "    }\n",
       "\n",
       "    .dataframe thead th {\n",
       "        text-align: right;\n",
       "    }\n",
       "</style>\n",
       "<table border=\"1\" class=\"dataframe\">\n",
       "  <thead>\n",
       "    <tr style=\"text-align: right;\">\n",
       "      <th></th>\n",
       "      <th>Полож.пед.акселер.,%</th>\n",
       "      <th>Давл.масла двиг.,кПа</th>\n",
       "      <th>Обор.двиг.,об/мин</th>\n",
       "      <th>КПП. Давление масла в системе смазки</th>\n",
       "      <th>Скорость</th>\n",
       "      <th>ДВС. Давление смазки</th>\n",
       "      <th>ДВС. Температура охлаждающей жидкости</th>\n",
       "      <th>Давление в пневмостистеме (spn46), кПа</th>\n",
       "      <th>Электросистема. Напряжение</th>\n",
       "      <th>ДВС. Частота вращения коленчатого вала</th>\n",
       "      <th>Дата и время</th>\n",
       "      <th>target</th>\n",
       "    </tr>\n",
       "  </thead>\n",
       "  <tbody>\n",
       "    <tr>\n",
       "      <th>384</th>\n",
       "      <td>0.0</td>\n",
       "      <td>0</td>\n",
       "      <td>0.000</td>\n",
       "      <td>NaN</td>\n",
       "      <td>0</td>\n",
       "      <td>0</td>\n",
       "      <td>35</td>\n",
       "      <td>NaN</td>\n",
       "      <td>NaN</td>\n",
       "      <td>0</td>\n",
       "      <td>01/06/2023 07:57:01</td>\n",
       "      <td>0</td>\n",
       "    </tr>\n",
       "    <tr>\n",
       "      <th>386</th>\n",
       "      <td>0.0</td>\n",
       "      <td>380</td>\n",
       "      <td>649.000</td>\n",
       "      <td>1184</td>\n",
       "      <td>0</td>\n",
       "      <td>380</td>\n",
       "      <td>34</td>\n",
       "      <td>760</td>\n",
       "      <td>27.2</td>\n",
       "      <td>649</td>\n",
       "      <td>01/06/2023 07:57:31</td>\n",
       "      <td>0</td>\n",
       "    </tr>\n",
       "    <tr>\n",
       "      <th>387</th>\n",
       "      <td>0.0</td>\n",
       "      <td>360</td>\n",
       "      <td>651.000</td>\n",
       "      <td>1200</td>\n",
       "      <td>0</td>\n",
       "      <td>360</td>\n",
       "      <td>34</td>\n",
       "      <td>816</td>\n",
       "      <td>28.05</td>\n",
       "      <td>651</td>\n",
       "      <td>01/06/2023 07:58:01</td>\n",
       "      <td>0</td>\n",
       "    </tr>\n",
       "  </tbody>\n",
       "</table>\n",
       "</div>"
      ],
      "text/plain": [
       "    Полож.пед.акселер.,% Давл.масла двиг.,кПа Обор.двиг.,об/мин  \\\n",
       "384                  0.0                    0             0.000   \n",
       "386                  0.0                  380           649.000   \n",
       "387                  0.0                  360           651.000   \n",
       "\n",
       "    КПП. Давление масла в системе смазки Скорость ДВС. Давление смазки  \\\n",
       "384                                  NaN        0                    0   \n",
       "386                                 1184        0                  380   \n",
       "387                                 1200        0                  360   \n",
       "\n",
       "    ДВС. Температура охлаждающей жидкости  \\\n",
       "384                                    35   \n",
       "386                                    34   \n",
       "387                                    34   \n",
       "\n",
       "    Давление в пневмостистеме (spn46), кПа Электросистема. Напряжение  \\\n",
       "384                                    NaN                        NaN   \n",
       "386                                    760                       27.2   \n",
       "387                                    816                      28.05   \n",
       "\n",
       "    ДВС. Частота вращения коленчатого вала         Дата и время  target  \n",
       "384                                      0  01/06/2023 07:57:01       0  \n",
       "386                                    649  01/06/2023 07:57:31       0  \n",
       "387                                    651  01/06/2023 07:58:01       0  "
      ]
     },
     "execution_count": 11,
     "metadata": {},
     "output_type": "execute_result"
    }
   ],
   "source": [
    "all_data.head(3)"
   ]
  },
  {
   "cell_type": "code",
   "execution_count": 12,
   "metadata": {},
   "outputs": [],
   "source": [
    "for num_col in numeric_cols:\n",
    "    all_data[num_col] = all_data[num_col].astype(float)"
   ]
  },
  {
   "cell_type": "code",
   "execution_count": 13,
   "metadata": {},
   "outputs": [],
   "source": [
    "all_data[\"Дата и время\"] = pd.to_datetime(all_data[\"Дата и время\"], format='%d/%m/%Y %H:%M:%S', dayfirst=True )"
   ]
  },
  {
   "cell_type": "markdown",
   "metadata": {},
   "source": [
    "## Description"
   ]
  },
  {
   "cell_type": "code",
   "execution_count": 14,
   "metadata": {},
   "outputs": [
    {
     "data": {
      "text/html": [
       "<div>\n",
       "<style scoped>\n",
       "    .dataframe tbody tr th:only-of-type {\n",
       "        vertical-align: middle;\n",
       "    }\n",
       "\n",
       "    .dataframe tbody tr th {\n",
       "        vertical-align: top;\n",
       "    }\n",
       "\n",
       "    .dataframe thead th {\n",
       "        text-align: right;\n",
       "    }\n",
       "</style>\n",
       "<table border=\"1\" class=\"dataframe\">\n",
       "  <thead>\n",
       "    <tr style=\"text-align: right;\">\n",
       "      <th></th>\n",
       "      <th>Полож.пед.акселер.,%</th>\n",
       "      <th>Давл.масла двиг.,кПа</th>\n",
       "      <th>Обор.двиг.,об/мин</th>\n",
       "      <th>КПП. Давление масла в системе смазки</th>\n",
       "      <th>Скорость</th>\n",
       "      <th>ДВС. Давление смазки</th>\n",
       "      <th>ДВС. Температура охлаждающей жидкости</th>\n",
       "      <th>Давление в пневмостистеме (spn46), кПа</th>\n",
       "      <th>Электросистема. Напряжение</th>\n",
       "      <th>ДВС. Частота вращения коленчатого вала</th>\n",
       "      <th>Дата и время</th>\n",
       "      <th>target</th>\n",
       "    </tr>\n",
       "  </thead>\n",
       "  <tbody>\n",
       "    <tr>\n",
       "      <th>384</th>\n",
       "      <td>0.0</td>\n",
       "      <td>0.0</td>\n",
       "      <td>0.000</td>\n",
       "      <td>NaN</td>\n",
       "      <td>0.0</td>\n",
       "      <td>0.0</td>\n",
       "      <td>35.0</td>\n",
       "      <td>NaN</td>\n",
       "      <td>NaN</td>\n",
       "      <td>0.000</td>\n",
       "      <td>2023-06-01 07:57:01</td>\n",
       "      <td>0</td>\n",
       "    </tr>\n",
       "    <tr>\n",
       "      <th>386</th>\n",
       "      <td>0.0</td>\n",
       "      <td>380.0</td>\n",
       "      <td>649.000</td>\n",
       "      <td>1184.0</td>\n",
       "      <td>0.0</td>\n",
       "      <td>380.0</td>\n",
       "      <td>34.0</td>\n",
       "      <td>760.0</td>\n",
       "      <td>27.20</td>\n",
       "      <td>649.000</td>\n",
       "      <td>2023-06-01 07:57:31</td>\n",
       "      <td>0</td>\n",
       "    </tr>\n",
       "    <tr>\n",
       "      <th>387</th>\n",
       "      <td>0.0</td>\n",
       "      <td>360.0</td>\n",
       "      <td>651.000</td>\n",
       "      <td>1200.0</td>\n",
       "      <td>0.0</td>\n",
       "      <td>360.0</td>\n",
       "      <td>34.0</td>\n",
       "      <td>816.0</td>\n",
       "      <td>28.05</td>\n",
       "      <td>651.000</td>\n",
       "      <td>2023-06-01 07:58:01</td>\n",
       "      <td>0</td>\n",
       "    </tr>\n",
       "    <tr>\n",
       "      <th>388</th>\n",
       "      <td>0.0</td>\n",
       "      <td>348.0</td>\n",
       "      <td>656.000</td>\n",
       "      <td>1200.0</td>\n",
       "      <td>0.0</td>\n",
       "      <td>348.0</td>\n",
       "      <td>35.0</td>\n",
       "      <td>816.0</td>\n",
       "      <td>28.10</td>\n",
       "      <td>656.000</td>\n",
       "      <td>2023-06-01 07:58:31</td>\n",
       "      <td>0</td>\n",
       "    </tr>\n",
       "    <tr>\n",
       "      <th>389</th>\n",
       "      <td>0.0</td>\n",
       "      <td>360.0</td>\n",
       "      <td>671.875</td>\n",
       "      <td>1200.0</td>\n",
       "      <td>0.0</td>\n",
       "      <td>360.0</td>\n",
       "      <td>36.0</td>\n",
       "      <td>816.0</td>\n",
       "      <td>28.10</td>\n",
       "      <td>671.875</td>\n",
       "      <td>2023-06-01 07:59:01</td>\n",
       "      <td>0</td>\n",
       "    </tr>\n",
       "  </tbody>\n",
       "</table>\n",
       "</div>"
      ],
      "text/plain": [
       "     Полож.пед.акселер.,%  Давл.масла двиг.,кПа  Обор.двиг.,об/мин  \\\n",
       "384                   0.0                   0.0              0.000   \n",
       "386                   0.0                 380.0            649.000   \n",
       "387                   0.0                 360.0            651.000   \n",
       "388                   0.0                 348.0            656.000   \n",
       "389                   0.0                 360.0            671.875   \n",
       "\n",
       "     КПП. Давление масла в системе смазки  Скорость  ДВС. Давление смазки  \\\n",
       "384                                   NaN       0.0                   0.0   \n",
       "386                                1184.0       0.0                 380.0   \n",
       "387                                1200.0       0.0                 360.0   \n",
       "388                                1200.0       0.0                 348.0   \n",
       "389                                1200.0       0.0                 360.0   \n",
       "\n",
       "     ДВС. Температура охлаждающей жидкости  \\\n",
       "384                                   35.0   \n",
       "386                                   34.0   \n",
       "387                                   34.0   \n",
       "388                                   35.0   \n",
       "389                                   36.0   \n",
       "\n",
       "     Давление в пневмостистеме (spn46), кПа  Электросистема. Напряжение  \\\n",
       "384                                     NaN                         NaN   \n",
       "386                                   760.0                       27.20   \n",
       "387                                   816.0                       28.05   \n",
       "388                                   816.0                       28.10   \n",
       "389                                   816.0                       28.10   \n",
       "\n",
       "     ДВС. Частота вращения коленчатого вала        Дата и время  target  \n",
       "384                                   0.000 2023-06-01 07:57:01       0  \n",
       "386                                 649.000 2023-06-01 07:57:31       0  \n",
       "387                                 651.000 2023-06-01 07:58:01       0  \n",
       "388                                 656.000 2023-06-01 07:58:31       0  \n",
       "389                                 671.875 2023-06-01 07:59:01       0  "
      ]
     },
     "execution_count": 14,
     "metadata": {},
     "output_type": "execute_result"
    }
   ],
   "source": [
    "all_data.head()"
   ]
  },
  {
   "cell_type": "code",
   "execution_count": 15,
   "metadata": {},
   "outputs": [
    {
     "name": "stdout",
     "output_type": "stream",
     "text": [
      "<class 'pandas.core.frame.DataFrame'>\n",
      "Index: 2856565 entries, 384 to 3345793\n",
      "Data columns (total 12 columns):\n",
      " #   Column                                  Dtype         \n",
      "---  ------                                  -----         \n",
      " 0   Полож.пед.акселер.,%                    float64       \n",
      " 1   Давл.масла двиг.,кПа                    float64       \n",
      " 2   Обор.двиг.,об/мин                       float64       \n",
      " 3   КПП. Давление масла в системе смазки    float64       \n",
      " 4   Скорость                                float64       \n",
      " 5   ДВС. Давление смазки                    float64       \n",
      " 6   ДВС. Температура охлаждающей жидкости   float64       \n",
      " 7   Давление в пневмостистеме (spn46), кПа  float64       \n",
      " 8   Электросистема. Напряжение              float64       \n",
      " 9   ДВС. Частота вращения коленчатого вала  float64       \n",
      " 10  Дата и время                            datetime64[ns]\n",
      " 11  target                                  int64         \n",
      "dtypes: datetime64[ns](1), float64(10), int64(1)\n",
      "memory usage: 283.3 MB\n"
     ]
    }
   ],
   "source": [
    "all_data.info()"
   ]
  },
  {
   "cell_type": "code",
   "execution_count": 16,
   "metadata": {},
   "outputs": [
    {
     "data": {
      "text/html": [
       "<div>\n",
       "<style scoped>\n",
       "    .dataframe tbody tr th:only-of-type {\n",
       "        vertical-align: middle;\n",
       "    }\n",
       "\n",
       "    .dataframe tbody tr th {\n",
       "        vertical-align: top;\n",
       "    }\n",
       "\n",
       "    .dataframe thead th {\n",
       "        text-align: right;\n",
       "    }\n",
       "</style>\n",
       "<table border=\"1\" class=\"dataframe\">\n",
       "  <thead>\n",
       "    <tr style=\"text-align: right;\">\n",
       "      <th></th>\n",
       "      <th>Полож.пед.акселер.,%</th>\n",
       "      <th>Давл.масла двиг.,кПа</th>\n",
       "      <th>Обор.двиг.,об/мин</th>\n",
       "      <th>КПП. Давление масла в системе смазки</th>\n",
       "      <th>Скорость</th>\n",
       "      <th>ДВС. Давление смазки</th>\n",
       "      <th>ДВС. Температура охлаждающей жидкости</th>\n",
       "      <th>Давление в пневмостистеме (spn46), кПа</th>\n",
       "      <th>Электросистема. Напряжение</th>\n",
       "      <th>ДВС. Частота вращения коленчатого вала</th>\n",
       "      <th>Дата и время</th>\n",
       "      <th>target</th>\n",
       "    </tr>\n",
       "  </thead>\n",
       "  <tbody>\n",
       "    <tr>\n",
       "      <th>count</th>\n",
       "      <td>2.812354e+06</td>\n",
       "      <td>2.811995e+06</td>\n",
       "      <td>2.808830e+06</td>\n",
       "      <td>2.653296e+06</td>\n",
       "      <td>2.702376e+06</td>\n",
       "      <td>2.811994e+06</td>\n",
       "      <td>2.806123e+06</td>\n",
       "      <td>2.673350e+06</td>\n",
       "      <td>2.302954e+06</td>\n",
       "      <td>2.813049e+06</td>\n",
       "      <td>2856565</td>\n",
       "      <td>2.856565e+06</td>\n",
       "    </tr>\n",
       "    <tr>\n",
       "      <th>mean</th>\n",
       "      <td>3.500577e+01</td>\n",
       "      <td>4.431452e+02</td>\n",
       "      <td>1.660802e+03</td>\n",
       "      <td>1.215212e+03</td>\n",
       "      <td>6.657186e+00</td>\n",
       "      <td>4.465779e+02</td>\n",
       "      <td>7.541672e+01</td>\n",
       "      <td>7.442729e+02</td>\n",
       "      <td>2.611713e+01</td>\n",
       "      <td>1.660409e+03</td>\n",
       "      <td>2023-07-08 22:52:37.891063296</td>\n",
       "      <td>1.573102e+00</td>\n",
       "    </tr>\n",
       "    <tr>\n",
       "      <th>min</th>\n",
       "      <td>0.000000e+00</td>\n",
       "      <td>0.000000e+00</td>\n",
       "      <td>0.000000e+00</td>\n",
       "      <td>0.000000e+00</td>\n",
       "      <td>0.000000e+00</td>\n",
       "      <td>0.000000e+00</td>\n",
       "      <td>0.000000e+00</td>\n",
       "      <td>0.000000e+00</td>\n",
       "      <td>1.000000e+00</td>\n",
       "      <td>0.000000e+00</td>\n",
       "      <td>2023-04-26 08:18:36</td>\n",
       "      <td>0.000000e+00</td>\n",
       "    </tr>\n",
       "    <tr>\n",
       "      <th>25%</th>\n",
       "      <td>0.000000e+00</td>\n",
       "      <td>3.680000e+02</td>\n",
       "      <td>1.303500e+03</td>\n",
       "      <td>1.200000e+03</td>\n",
       "      <td>0.000000e+00</td>\n",
       "      <td>3.680000e+02</td>\n",
       "      <td>7.300000e+01</td>\n",
       "      <td>7.280000e+02</td>\n",
       "      <td>2.760000e+01</td>\n",
       "      <td>1.303500e+03</td>\n",
       "      <td>2023-06-11 09:46:40</td>\n",
       "      <td>2.000000e+00</td>\n",
       "    </tr>\n",
       "    <tr>\n",
       "      <th>50%</th>\n",
       "      <td>0.000000e+00</td>\n",
       "      <td>4.680000e+02</td>\n",
       "      <td>1.887000e+03</td>\n",
       "      <td>1.216000e+03</td>\n",
       "      <td>6.500000e+00</td>\n",
       "      <td>4.680000e+02</td>\n",
       "      <td>7.600000e+01</td>\n",
       "      <td>7.600000e+02</td>\n",
       "      <td>2.790000e+01</td>\n",
       "      <td>1.887000e+03</td>\n",
       "      <td>2023-07-08 14:49:13</td>\n",
       "      <td>2.000000e+00</td>\n",
       "    </tr>\n",
       "    <tr>\n",
       "      <th>75%</th>\n",
       "      <td>9.480000e+01</td>\n",
       "      <td>5.080000e+02</td>\n",
       "      <td>1.905000e+03</td>\n",
       "      <td>1.264000e+03</td>\n",
       "      <td>1.040000e+01</td>\n",
       "      <td>5.080000e+02</td>\n",
       "      <td>7.800000e+01</td>\n",
       "      <td>7.840000e+02</td>\n",
       "      <td>2.810000e+01</td>\n",
       "      <td>1.904125e+03</td>\n",
       "      <td>2023-08-05 11:47:18</td>\n",
       "      <td>2.000000e+00</td>\n",
       "    </tr>\n",
       "    <tr>\n",
       "      <th>max</th>\n",
       "      <td>1.000000e+02</td>\n",
       "      <td>1.500000e+03</td>\n",
       "      <td>5.000000e+03</td>\n",
       "      <td>3.000000e+03</td>\n",
       "      <td>3.860000e+01</td>\n",
       "      <td>1.600000e+03</td>\n",
       "      <td>1.500000e+02</td>\n",
       "      <td>1.000000e+03</td>\n",
       "      <td>3.060000e+01</td>\n",
       "      <td>5.000000e+03</td>\n",
       "      <td>2023-10-13 09:28:18</td>\n",
       "      <td>2.000000e+00</td>\n",
       "    </tr>\n",
       "    <tr>\n",
       "      <th>std</th>\n",
       "      <td>4.239520e+01</td>\n",
       "      <td>1.806461e+02</td>\n",
       "      <td>6.227866e+02</td>\n",
       "      <td>2.978850e+02</td>\n",
       "      <td>7.614724e+00</td>\n",
       "      <td>1.914539e+02</td>\n",
       "      <td>1.260560e+01</td>\n",
       "      <td>1.098635e+02</td>\n",
       "      <td>5.290434e+00</td>\n",
       "      <td>6.220910e+02</td>\n",
       "      <td>NaN</td>\n",
       "      <td>7.779104e-01</td>\n",
       "    </tr>\n",
       "  </tbody>\n",
       "</table>\n",
       "</div>"
      ],
      "text/plain": [
       "       Полож.пед.акселер.,%  Давл.масла двиг.,кПа  Обор.двиг.,об/мин  \\\n",
       "count          2.812354e+06          2.811995e+06       2.808830e+06   \n",
       "mean           3.500577e+01          4.431452e+02       1.660802e+03   \n",
       "min            0.000000e+00          0.000000e+00       0.000000e+00   \n",
       "25%            0.000000e+00          3.680000e+02       1.303500e+03   \n",
       "50%            0.000000e+00          4.680000e+02       1.887000e+03   \n",
       "75%            9.480000e+01          5.080000e+02       1.905000e+03   \n",
       "max            1.000000e+02          1.500000e+03       5.000000e+03   \n",
       "std            4.239520e+01          1.806461e+02       6.227866e+02   \n",
       "\n",
       "       КПП. Давление масла в системе смазки      Скорость  \\\n",
       "count                          2.653296e+06  2.702376e+06   \n",
       "mean                           1.215212e+03  6.657186e+00   \n",
       "min                            0.000000e+00  0.000000e+00   \n",
       "25%                            1.200000e+03  0.000000e+00   \n",
       "50%                            1.216000e+03  6.500000e+00   \n",
       "75%                            1.264000e+03  1.040000e+01   \n",
       "max                            3.000000e+03  3.860000e+01   \n",
       "std                            2.978850e+02  7.614724e+00   \n",
       "\n",
       "       ДВС. Давление смазки  ДВС. Температура охлаждающей жидкости  \\\n",
       "count          2.811994e+06                           2.806123e+06   \n",
       "mean           4.465779e+02                           7.541672e+01   \n",
       "min            0.000000e+00                           0.000000e+00   \n",
       "25%            3.680000e+02                           7.300000e+01   \n",
       "50%            4.680000e+02                           7.600000e+01   \n",
       "75%            5.080000e+02                           7.800000e+01   \n",
       "max            1.600000e+03                           1.500000e+02   \n",
       "std            1.914539e+02                           1.260560e+01   \n",
       "\n",
       "       Давление в пневмостистеме (spn46), кПа  Электросистема. Напряжение  \\\n",
       "count                            2.673350e+06                2.302954e+06   \n",
       "mean                             7.442729e+02                2.611713e+01   \n",
       "min                              0.000000e+00                1.000000e+00   \n",
       "25%                              7.280000e+02                2.760000e+01   \n",
       "50%                              7.600000e+02                2.790000e+01   \n",
       "75%                              7.840000e+02                2.810000e+01   \n",
       "max                              1.000000e+03                3.060000e+01   \n",
       "std                              1.098635e+02                5.290434e+00   \n",
       "\n",
       "       ДВС. Частота вращения коленчатого вала                   Дата и время  \\\n",
       "count                            2.813049e+06                        2856565   \n",
       "mean                             1.660409e+03  2023-07-08 22:52:37.891063296   \n",
       "min                              0.000000e+00            2023-04-26 08:18:36   \n",
       "25%                              1.303500e+03            2023-06-11 09:46:40   \n",
       "50%                              1.887000e+03            2023-07-08 14:49:13   \n",
       "75%                              1.904125e+03            2023-08-05 11:47:18   \n",
       "max                              5.000000e+03            2023-10-13 09:28:18   \n",
       "std                              6.220910e+02                            NaN   \n",
       "\n",
       "             target  \n",
       "count  2.856565e+06  \n",
       "mean   1.573102e+00  \n",
       "min    0.000000e+00  \n",
       "25%    2.000000e+00  \n",
       "50%    2.000000e+00  \n",
       "75%    2.000000e+00  \n",
       "max    2.000000e+00  \n",
       "std    7.779104e-01  "
      ]
     },
     "execution_count": 16,
     "metadata": {},
     "output_type": "execute_result"
    }
   ],
   "source": [
    "all_data.describe()"
   ]
  },
  {
   "cell_type": "code",
   "execution_count": 17,
   "metadata": {},
   "outputs": [
    {
     "data": {
      "text/plain": [
       "Полож.пед.акселер.,%                          298\n",
       "Давл.масла двиг.,кПа                         1501\n",
       "Обор.двиг.,об/мин                           15532\n",
       "КПП. Давление масла в системе смазки         3001\n",
       "Скорость                                      597\n",
       "ДВС. Давление смазки                         1601\n",
       "ДВС. Температура охлаждающей жидкости         151\n",
       "Давление в пневмостистеме (spn46), кПа        979\n",
       "Электросистема. Напряжение                    258\n",
       "ДВС. Частота вращения коленчатого вала      15579\n",
       "Дата и время                              2522344\n",
       "target                                          3\n",
       "dtype: int64"
      ]
     },
     "execution_count": 17,
     "metadata": {},
     "output_type": "execute_result"
    }
   ],
   "source": [
    "all_data.nunique()"
   ]
  },
  {
   "cell_type": "code",
   "execution_count": 18,
   "metadata": {},
   "outputs": [
    {
     "data": {
      "image/png": "[encoded data removed]",
      "text/plain": [
       "<Figure size 1000x1000 with 3 Axes>"
      ]
     },
     "metadata": {},
     "output_type": "display_data"
    }
   ],
   "source": [
    "fig, axis = plt.subplots(nrows=1, ncols=3, figsize=(10,10))\n",
    "for i in range(3):\n",
    "    axis[i].matshow(all_data[all_data[\"target\"] == i].corr())\n"
   ]
  },
  {
   "cell_type": "code",
   "execution_count": 19,
   "metadata": {},
   "outputs": [],
   "source": [
    "pd.to_pickle(all_data, path_data / \"analysis_with_nan.pickle\")"
   ]
  },
  {
   "cell_type": "markdown",
   "metadata": {},
   "source": [
    "## Fill nans"
   ]
  },
  {
   "cell_type": "code",
   "execution_count": 20,
   "metadata": {},
   "outputs": [],
   "source": [
    "all_data.sort_values([\"target\", \"Дата и время\"], inplace=True, ignore_index=True)"
   ]
  },
  {
   "cell_type": "code",
   "execution_count": 21,
   "metadata": {},
   "outputs": [],
   "source": [
    "all_data.bfill(inplace=True)\n",
    "all_data.ffill(inplace=True)"
   ]
  },
  {
   "cell_type": "code",
   "execution_count": 22,
   "metadata": {},
   "outputs": [
    {
     "data": {
      "text/plain": [
       "Полож.пед.акселер.,%                      0\n",
       "Давл.масла двиг.,кПа                      0\n",
       "Обор.двиг.,об/мин                         0\n",
       "КПП. Давление масла в системе смазки      0\n",
       "Скорость                                  0\n",
       "ДВС. Давление смазки                      0\n",
       "ДВС. Температура охлаждающей жидкости     0\n",
       "Давление в пневмостистеме (spn46), кПа    0\n",
       "Электросистема. Напряжение                0\n",
       "ДВС. Частота вращения коленчатого вала    0\n",
       "Дата и время                              0\n",
       "target                                    0\n",
       "dtype: int64"
      ]
     },
     "execution_count": 22,
     "metadata": {},
     "output_type": "execute_result"
    }
   ],
   "source": [
    "all_data.isna().sum()"
   ]
  },
  {
   "cell_type": "code",
   "execution_count": 23,
   "metadata": {},
   "outputs": [
    {
     "data": {
      "image/png": "[encoded data removed]",
      "text/plain": [
       "<Figure size 1000x1000 with 3 Axes>"
      ]
     },
     "metadata": {},
     "output_type": "display_data"
    }
   ],
   "source": [
    "fig, axis = plt.subplots(nrows=1, ncols=3, figsize=(10,10))\n",
    "for i in range(3):\n",
    "    axis[i].matshow(all_data[all_data[\"target\"] == i].corr())"
   ]
  },
  {
   "cell_type": "code",
   "execution_count": 24,
   "metadata": {},
   "outputs": [],
   "source": [
    "pd.to_pickle(all_data, path_data / \"analysis_clear.pickle\")\n"
   ]
  },
  {
   "cell_type": "code",
   "execution_count": 25,
   "metadata": {},
   "outputs": [
    {
     "data": {
      "image/png": "[encoded data removed]",
      "text/plain": [
       "<Figure size 1000x1000 with 12 Axes>"
      ]
     },
     "metadata": {},
     "output_type": "display_data"
    }
   ],
   "source": [
    "fig, axis = plt.subplots(nrows=4, ncols=3, figsize=(10,10))\n",
    "fig.tight_layout(h_pad=2)\n",
    "\n",
    "for i, num_col in enumerate(numeric_cols):\n",
    "    row = i // 3\n",
    "    col = i % 3\n",
    "    df_target_0 = all_data.loc[all_data[\"target\"] == 0, num_col]\n",
    "    df_target_1 = all_data.loc[all_data[\"target\"] == 1, num_col]\n",
    "    df_target_2 = all_data.loc[all_data[\"target\"] == 2, num_col]\n",
    "    axis[row][col].hist(df_target_0, alpha=0.5, label=\"normal\", density=True, color=\"green\")\n",
    "    axis[row][col].hist(df_target_1, alpha=0.5, label=\"anomaly\", density=True, color=\"yellow\")\n",
    "    axis[row][col].hist(df_target_2, alpha=0.5, label='problem', density=True, color=\"red\")\n",
    "    axis[row][col].legend()\n",
    "    axis[row][col].set_xlabel(num_col)"
   ]
  },
  {
   "cell_type": "code",
   "execution_count": null,
   "metadata": {},
   "outputs": [],
   "source": []
  }
 ],
 "metadata": {
  "kernelspec": {
   "display_name": ".venv",
   "language": "python",
   "name": "python3"
  },
  "language_info": {
   "codemirror_mode": {
    "name": "ipython",
    "version": 3
   },
   "file_extension": ".py",
   "mimetype": "text/x-python",
   "name": "python",
   "nbconvert_exporter": "python",
   "pygments_lexer": "ipython3",
   "version": "3.10.12"
  }
 },
 "nbformat": 4,
 "nbformat_minor": 2
}
